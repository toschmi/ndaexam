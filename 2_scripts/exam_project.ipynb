{
 "cells": [
  {
   "cell_type": "markdown",
   "metadata": {},
   "source": [
    "# Recurrence Analysis of Climate Variation in the Northern Hemisphere"
   ]
  },
  {
   "cell_type": "code",
   "execution_count": 4,
   "metadata": {},
   "outputs": [],
   "source": [
    "# import libraries\n",
    "import numpy as np\n",
    "from scipy import signal\n",
    "import matplotlib.pyplot as pl\n",
    "import nda.recurrence as rc\n",
    "import nda.recurrence_quantification as rq\n",
    "\n",
    "# configure font size for plots\n",
    "pl.rcParams.update({'font.size':18,'lines.linewidth':.8,'grid.linestyle':':'})"
   ]
  },
  {
   "cell_type": "code",
   "execution_count": 5,
   "metadata": {},
   "outputs": [],
   "source": [
    "# set up function that computes tau-recurrence rate\n",
    "def rr_tau(rp):\n",
    "    \"\"\"\n",
    "    Equation from Marwan et al., 2007\n",
    "    (doi:10.1016/j.physrep.2006.11.001)\n",
    "    \"\"\"    \n",
    "    # length 'n' of data series\n",
    "    n = len(rp)\n",
    "    \n",
    "    # tau-recurrence rate 'rrt'\n",
    "    rrt = []\n",
    "    \n",
    "    for i in range(-n+1,n):\n",
    "        # tau-th diagonal 'd' in the rp\n",
    "        d = np.diag(rp, k=-i)\n",
    "\n",
    "        # compute recurrence rate for respective diagonal\n",
    "        rrt.append(sum(d)/len(d))\n",
    "        \n",
    "    return rrt, np.arange(-n+1,n)\n",
    "\n",
    "# set up function that computes the power spectrum of a time series\n",
    "def ps(t, x, s=1):\n",
    "    \"\"\"\n",
    "    After Mathworks: Power Spectral Density Estimates Using FFT\n",
    "    (https://de.mathworks.com/help/signal/ug/power-spectral-density-estimates-using-fft.html)\n",
    "    \n",
    "    Where:\n",
    "        t is the time array\n",
    "        x is the data array\n",
    "        s is the scaling factor, i.e. sampling interval\n",
    "    \"\"\"\n",
    "    # if time array 't' is odd then remove last time point\n",
    "    if len(t)%2 == 1:\n",
    "        t = t[:-1]\n",
    "    \n",
    "    # time range 'tr'\n",
    "    tr = t.max()-t.min()\n",
    "    \n",
    "    # length 'n' of time series\n",
    "    n = len(x)\n",
    "\n",
    "    # derive sampling period 'p'\n",
    "    p = np.arange(0, tr/2+s, s)\n",
    "    \n",
    "    # one-dimensional discrete Fourier transform 'ft'\n",
    "    ft = np.fft.fft(x)\n",
    "    ft = ft[:n//2+1]\n",
    "\n",
    "    # power spectrum 'ps'\n",
    "    ps = abs(ft)**2\n",
    "    ps[1:-1] = 2 * ps[1:-1]\n",
    "    \n",
    "    return ps, p"
   ]
  },
  {
   "cell_type": "markdown",
   "metadata": {},
   "source": [
    "## A frequently used climate proxy for the northern-hemisphere climate is NGRIP data. Download the data and preprocess the data if necessary."
   ]
  },
  {
   "cell_type": "code",
   "execution_count": null,
   "metadata": {},
   "outputs": [],
   "source": []
  },
  {
   "cell_type": "markdown",
   "metadata": {},
   "source": [
    "## Estimate embedding parameters and reconstruct and present the phase space trajectory."
   ]
  },
  {
   "cell_type": "code",
   "execution_count": null,
   "metadata": {},
   "outputs": [],
   "source": []
  },
  {
   "cell_type": "markdown",
   "metadata": {},
   "source": [
    "## Construct a RP of this embedded time series. Check different options of recurrence criteria and discuss your final choice. Interpret the visual appearance of the RP."
   ]
  },
  {
   "cell_type": "code",
   "execution_count": null,
   "metadata": {},
   "outputs": [],
   "source": []
  },
  {
   "cell_type": "markdown",
   "metadata": {},
   "source": [
    "## Compute the τ-recurrence rate as a function of τ and display the results. Check different filtering options (low-pass, high-pass, band-pass filter) and their impact on the τ-recurrence rate."
   ]
  },
  {
   "cell_type": "code",
   "execution_count": null,
   "metadata": {},
   "outputs": [],
   "source": []
  },
  {
   "cell_type": "markdown",
   "metadata": {},
   "source": [
    "## Make a fourier transform of all the τ-recurrence rate and show the squared absolute values of these transforms as a function of the sampling period (recurrence based powerspectrum)."
   ]
  },
  {
   "cell_type": "code",
   "execution_count": null,
   "metadata": {},
   "outputs": [],
   "source": []
  },
  {
   "cell_type": "markdown",
   "metadata": {},
   "source": [
    "## Make a Fourier Analysis of the original time series and compare and discuss the powerspectrum with the recurrence based powerspectrum."
   ]
  },
  {
   "cell_type": "code",
   "execution_count": null,
   "metadata": {},
   "outputs": [],
   "source": []
  }
 ],
 "metadata": {
  "kernelspec": {
   "display_name": "Python 3",
   "language": "python",
   "name": "python3"
  },
  "language_info": {
   "codemirror_mode": {
    "name": "ipython",
    "version": 3
   },
   "file_extension": ".py",
   "mimetype": "text/x-python",
   "name": "python",
   "nbconvert_exporter": "python",
   "pygments_lexer": "ipython3",
   "version": "3.7.4"
  }
 },
 "nbformat": 4,
 "nbformat_minor": 4
}
